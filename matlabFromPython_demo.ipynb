{
 "cells": [
  {
   "cell_type": "markdown",
   "metadata": {},
   "source": [
    "# Calling MATLAB from Python\n",
    "In this Jupyter notebook, I will briefly go over how to call MATLAB from Python. \n",
    "To learn how to call MATLAB from Python, check this [live script](https://github.com/DeepakGuru1998/Matlab-with-Python/blob/main/pythonFromMatlab_demo.mlx).\n",
    "\n",
    "To access MATLAB from Python, you need MATLAB engine API for Python, which you can install as per the instructions given [here](https://www.mathworks.com/help/matlab/matlab_external/install-the-matlab-engine-for-python.html).\n",
    "\n",
    "This tutorial assumes that you already know how to use basic Python and MATLAB, and that you have ran `python setup.py install`"
   ]
  },
  {
   "cell_type": "markdown",
   "metadata": {},
   "source": [
    "**MATLAB API for Python**\n",
    "\n",
    "To the MATLAB®  Engine API for Python® you will need to have a copy of MATLAB installed in you system. There is no workaround for this, as far as I know, and this is a consequence of MATLAB being a proprietary software. This API supports almost every version of Python, and requires **CPython** to be installed on your system, in order to use the referencing of inputs and outputs required to exchange arguments between the two worlds."
   ]
  },
  {
   "cell_type": "markdown",
   "metadata": {},
   "source": [
    "## Getting started with MATLAB in Python\n",
    "The first step is to import the MATLAB module (and some other packages which are optional) as follows:"
   ]
  },
  {
   "cell_type": "code",
   "execution_count": 1,
   "metadata": {},
   "outputs": [],
   "source": [
    "import matlab.engine\n",
    "import numpy as np"
   ]
  },
  {
   "cell_type": "code",
   "execution_count": 2,
   "metadata": {},
   "outputs": [],
   "source": [
    "from numpy import *\n",
    "from pylab import *"
   ]
  },
  {
   "cell_type": "code",
   "execution_count": null,
   "metadata": {},
   "outputs": [],
   "source": [
    "cd \"matlabroot/extern/engines/python\""
   ]
  },
  {
   "cell_type": "code",
   "execution_count": null,
   "metadata": {},
   "outputs": [],
   "source": [
    "!pip python setup.py install"
   ]
  },
  {
   "cell_type": "markdown",
   "metadata": {},
   "source": [
    "where `matlabroot` is the path where you installed MATLAB on your system.\n",
    "\n",
    "That’s it!\n",
    "\n",
    "The API provides a Python package named matlab that enables you to call MATLAB functions from Python."
   ]
  },
  {
   "cell_type": "markdown",
   "metadata": {},
   "source": [
    "Start a MATLAB session:"
   ]
  },
  {
   "cell_type": "code",
   "execution_count": 3,
   "metadata": {},
   "outputs": [],
   "source": [
    "eng = matlab.engine.start_matlab()"
   ]
  },
  {
   "cell_type": "markdown",
   "metadata": {},
   "source": [
    "# Call MATLAB (built-in) functions from Python\n",
    "\n",
    "The usage of MATLAB in Python is similar to the syntax of Python in MATLAB. We can call any MATLAB command using `eng.[command]`. \n",
    "\n",
    "\n",
    "\n",
    "You can call any MATLAB function directly and return the results to Python. This holds as long as the function can be found in MATLAB’s path (we will come beck to this shortly).\n",
    "\n",
    "For example, to determine if a number is prime, use the engine to call the isprime function."
   ]
  },
  {
   "cell_type": "code",
   "execution_count": 4,
   "metadata": {},
   "outputs": [
    {
     "name": "stdout",
     "output_type": "stream",
     "text": [
      "True\n",
      "<class 'bool'>\n"
     ]
    }
   ],
   "source": [
    "tf = eng.isprime(37)\n",
    "print(tf)\n",
    "print(type(tf))"
   ]
  },
  {
   "cell_type": "markdown",
   "metadata": {},
   "source": [
    "This was a simple one: the MATALB function we call produced only one output, and it was a ‘scalar’ (actually boolean) output, not an array of some type."
   ]
  },
  {
   "cell_type": "markdown",
   "metadata": {},
   "source": [
    "## Transfering variables from Python to MATLAB workspace"
   ]
  },
  {
   "cell_type": "markdown",
   "metadata": {},
   "source": [
    "When you start the engine, it provides an interface to a collection of all MATLAB variables. This collection, named workspace, is implemented as a Python dictionary that is attached to the engine:\n",
    "\n",
    "  >The name of each MATLAB variable becomes a key in the workspace dictionary.\n",
    "  \n",
    "  >The keys in workspace must be valid MATLAB identifiers (e.g., you cannot use numbers as keys).\n",
    "  \n",
    "  \n",
    "You can add variables to the engine workspace in Python, and then you can use the variables in MATLAB functions:"
   ]
  },
  {
   "cell_type": "code",
   "execution_count": 5,
   "metadata": {},
   "outputs": [
    {
     "name": "stdout",
     "output_type": "stream",
     "text": [
      "2.0\n"
     ]
    }
   ],
   "source": [
    "# variable x in Python workspace\n",
    "x = 4.0\n",
    "# a new variable called y is added to MATLAB workspace, and is value is set to be equal to Python's x\n",
    "eng.workspace['y'] = x\n",
    "# we can use variable y while calling MATLAB functions, ad MATLAB is aware of all the variable availabe in its workspace\n",
    "a = eng.eval('sqrt(y)')\n",
    "print(a)"
   ]
  },
  {
   "cell_type": "markdown",
   "metadata": {},
   "source": [
    "In this example, x exists only as a Python variable. Its value is assigned to a new entry in the engine workspace, called y, creating a MATLAB variable. You can then call the MATLAB `eval` function to execute the `sqrt(y)` statement in MATLAB and return the output value, 2.0, to Python."
   ]
  },
  {
   "cell_type": "code",
   "execution_count": null,
   "metadata": {},
   "outputs": [],
   "source": []
  },
  {
   "cell_type": "code",
   "execution_count": null,
   "metadata": {},
   "outputs": [],
   "source": []
  },
  {
   "cell_type": "markdown",
   "metadata": {},
   "source": [
    "## Use MATLAB Arrays in Python\n"
   ]
  },
  {
   "cell_type": "markdown",
   "metadata": {},
   "source": [
    "Usually, while working with MATLAB, we are interested in performing complex operations on arrays. The `matlab` package provides constructors to create MATLAB arrays in Python. The MATLAB Engine API for Python can pass such arrays as input arguments to MATLAB functions, and can return such arrays as output arguments to Python."
   ]
  },
  {
   "cell_type": "code",
   "execution_count": 7,
   "metadata": {},
   "outputs": [
    {
     "name": "stdout",
     "output_type": "stream",
     "text": [
      "[[1.0,2.0,3.0,4.0,5.0]]\n",
      "<class 'mlarray.double'>\n"
     ]
    }
   ],
   "source": [
    "#You can create arrays of any MATLAB numeric or logical type from Python sequence types, as follows:\n",
    "a = matlab.double([1,4,9,16,25])\n",
    "b = eng.sqrt(a)\n",
    "print(b)\n",
    "print(type(b))\n",
    "\n",
    "#The engine returns b, which is a 1-by-5 matlab.double array."
   ]
  },
  {
   "cell_type": "code",
   "execution_count": 8,
   "metadata": {},
   "outputs": [
    {
     "name": "stdout",
     "output_type": "stream",
     "text": [
      "[35.0,1.0,6.0,26.0,19.0,24.0]\n",
      "[3.0,32.0,7.0,21.0,23.0,25.0]\n",
      "[31.0,9.0,2.0,22.0,27.0,20.0]\n",
      "[8.0,28.0,33.0,17.0,10.0,15.0]\n",
      "[30.0,5.0,34.0,12.0,14.0,16.0]\n",
      "[4.0,36.0,29.0,13.0,18.0,11.0]\n",
      "<class 'mlarray.double'>\n"
     ]
    }
   ],
   "source": [
    "#The same applies if we want to create a multidimensional array. \n",
    "#The magic function returns a 2-D matlab.double array to Python.\n",
    "a = eng.magic(6)\n",
    "for x in a: \n",
    "    print(x)\n",
    "print(type(a))\n"
   ]
  },
  {
   "cell_type": "markdown",
   "metadata": {},
   "source": [
    "Unfortunately, `matlab` package seems to work only with pure Python data structures, meaning that we will need to use some tricks if we are interested in working with, e.g., `numpy arrays`. This is important, as usually if we need to call a MATALB function to work on arrays, it is because in Python we were working with arrays and this is usually done via `numpy`."
   ]
  },
  {
   "cell_type": "code",
   "execution_count": 10,
   "metadata": {},
   "outputs": [
    {
     "name": "stdout",
     "output_type": "stream",
     "text": [
      "[[1 2 3 4]]\n",
      "<class 'numpy.ndarray'>\n",
      "<class 'numpy.ndarray'>\n",
      "[[ 1  4  9 16]]\n",
      "(1, 4)\n"
     ]
    }
   ],
   "source": [
    "import numpy as np\n",
    "\n",
    "a = np.array([1,2,3,4]).reshape([1,4])\n",
    "print(a)\n",
    "b = a**2\n",
    "print(type(a))\n",
    "print(type(b))\n",
    "print(b)\n",
    "print(b.shape)"
   ]
  },
  {
   "cell_type": "markdown",
   "metadata": {},
   "source": [
    "We created a numpy array a, and then we compute the square of each of its values, yelding another numpy array.\n",
    "\n",
    "If we try to reproduce this operation using matlab package we will be stuck in an error as soon as we try to cast the numpy array a as a matlab.double array:"
   ]
  },
  {
   "cell_type": "code",
   "execution_count": 11,
   "metadata": {},
   "outputs": [
    {
     "ename": "ValueError",
     "evalue": "initializer must be a rectangular nested sequence",
     "output_type": "error",
     "traceback": [
      "\u001b[1;31m---------------------------------------------------------------------------\u001b[0m",
      "\u001b[1;31mValueError\u001b[0m                                Traceback (most recent call last)",
      "\u001b[1;32m<ipython-input-11-a3f9b81e4630>\u001b[0m in \u001b[0;36m<module>\u001b[1;34m\u001b[0m\n\u001b[1;32m----> 1\u001b[1;33m \u001b[0ma_m\u001b[0m \u001b[1;33m=\u001b[0m \u001b[0mmatlab\u001b[0m\u001b[1;33m.\u001b[0m\u001b[0mdouble\u001b[0m\u001b[1;33m(\u001b[0m\u001b[0ma\u001b[0m\u001b[1;33m)\u001b[0m\u001b[1;33m\u001b[0m\u001b[1;33m\u001b[0m\u001b[0m\n\u001b[0m",
      "\u001b[1;32mE:\\anaconda\\Lib\\site-packages\\matlab\\mlarray.py\u001b[0m in \u001b[0;36m__init__\u001b[1;34m(self, initializer, size, is_complex)\u001b[0m\n\u001b[0;32m     49\u001b[0m             \u001b[0msuper\u001b[0m\u001b[1;33m(\u001b[0m\u001b[0mdouble\u001b[0m\u001b[1;33m,\u001b[0m \u001b[0mself\u001b[0m\u001b[1;33m)\u001b[0m\u001b[1;33m.\u001b[0m\u001b[0m__init__\u001b[0m\u001b[1;33m(\u001b[0m\u001b[1;34m'd'\u001b[0m\u001b[1;33m,\u001b[0m \u001b[0minitializer\u001b[0m\u001b[1;33m,\u001b[0m \u001b[0msize\u001b[0m\u001b[1;33m,\u001b[0m \u001b[0mis_complex\u001b[0m\u001b[1;33m)\u001b[0m\u001b[1;33m\u001b[0m\u001b[1;33m\u001b[0m\u001b[0m\n\u001b[0;32m     50\u001b[0m         \u001b[1;32mexcept\u001b[0m \u001b[0mException\u001b[0m \u001b[1;32mas\u001b[0m \u001b[0mex\u001b[0m\u001b[1;33m:\u001b[0m\u001b[1;33m\u001b[0m\u001b[1;33m\u001b[0m\u001b[0m\n\u001b[1;32m---> 51\u001b[1;33m             \u001b[1;32mraise\u001b[0m \u001b[0mex\u001b[0m\u001b[1;33m\u001b[0m\u001b[1;33m\u001b[0m\u001b[0m\n\u001b[0m\u001b[0;32m     52\u001b[0m \u001b[1;33m\u001b[0m\u001b[0m\n\u001b[0;32m     53\u001b[0m \u001b[1;33m\u001b[0m\u001b[0m\n",
      "\u001b[1;32mE:\\anaconda\\Lib\\site-packages\\matlab\\mlarray.py\u001b[0m in \u001b[0;36m__init__\u001b[1;34m(self, initializer, size, is_complex)\u001b[0m\n\u001b[0;32m     47\u001b[0m         \"\"\"\n\u001b[0;32m     48\u001b[0m         \u001b[1;32mtry\u001b[0m\u001b[1;33m:\u001b[0m\u001b[1;33m\u001b[0m\u001b[1;33m\u001b[0m\u001b[0m\n\u001b[1;32m---> 49\u001b[1;33m             \u001b[0msuper\u001b[0m\u001b[1;33m(\u001b[0m\u001b[0mdouble\u001b[0m\u001b[1;33m,\u001b[0m \u001b[0mself\u001b[0m\u001b[1;33m)\u001b[0m\u001b[1;33m.\u001b[0m\u001b[0m__init__\u001b[0m\u001b[1;33m(\u001b[0m\u001b[1;34m'd'\u001b[0m\u001b[1;33m,\u001b[0m \u001b[0minitializer\u001b[0m\u001b[1;33m,\u001b[0m \u001b[0msize\u001b[0m\u001b[1;33m,\u001b[0m \u001b[0mis_complex\u001b[0m\u001b[1;33m)\u001b[0m\u001b[1;33m\u001b[0m\u001b[1;33m\u001b[0m\u001b[0m\n\u001b[0m\u001b[0;32m     50\u001b[0m         \u001b[1;32mexcept\u001b[0m \u001b[0mException\u001b[0m \u001b[1;32mas\u001b[0m \u001b[0mex\u001b[0m\u001b[1;33m:\u001b[0m\u001b[1;33m\u001b[0m\u001b[1;33m\u001b[0m\u001b[0m\n\u001b[0;32m     51\u001b[0m             \u001b[1;32mraise\u001b[0m \u001b[0mex\u001b[0m\u001b[1;33m\u001b[0m\u001b[1;33m\u001b[0m\u001b[0m\n",
      "\u001b[1;32mE:\\anaconda\\Lib\\site-packages\\matlab\\_internal\\mlarray_sequence.py\u001b[0m in \u001b[0;36m__init__\u001b[1;34m(self, typecode, initializer, size, is_complex)\u001b[0m\n\u001b[0;32m     39\u001b[0m         \u001b[0mself\u001b[0m\u001b[1;33m.\u001b[0m\u001b[0m_python_type\u001b[0m \u001b[1;33m=\u001b[0m \u001b[0mpython_type\u001b[0m\u001b[1;33m[\u001b[0m\u001b[0mtypecode\u001b[0m\u001b[1;33m]\u001b[0m\u001b[1;33m\u001b[0m\u001b[1;33m\u001b[0m\u001b[0m\n\u001b[0;32m     40\u001b[0m         \u001b[1;32mif\u001b[0m \u001b[0minitializer\u001b[0m \u001b[1;32mis\u001b[0m \u001b[1;32mnot\u001b[0m \u001b[1;32mNone\u001b[0m\u001b[1;33m:\u001b[0m\u001b[1;33m\u001b[0m\u001b[1;33m\u001b[0m\u001b[0m\n\u001b[1;32m---> 41\u001b[1;33m             \u001b[0minit_dims\u001b[0m \u001b[1;33m=\u001b[0m \u001b[0m_get_size\u001b[0m\u001b[1;33m(\u001b[0m\u001b[0minitializer\u001b[0m\u001b[1;33m)\u001b[0m\u001b[1;33m\u001b[0m\u001b[1;33m\u001b[0m\u001b[0m\n\u001b[0m\u001b[0;32m     42\u001b[0m             \u001b[1;32mtry\u001b[0m\u001b[1;33m:\u001b[0m\u001b[1;33m\u001b[0m\u001b[1;33m\u001b[0m\u001b[0m\n\u001b[0;32m     43\u001b[0m                 \u001b[0mself\u001b[0m\u001b[1;33m.\u001b[0m\u001b[0m_size\u001b[0m \u001b[1;33m=\u001b[0m \u001b[0m_normalize_size\u001b[0m\u001b[1;33m(\u001b[0m\u001b[0msize\u001b[0m\u001b[1;33m,\u001b[0m \u001b[0minit_dims\u001b[0m\u001b[1;33m)\u001b[0m\u001b[1;33m\u001b[0m\u001b[1;33m\u001b[0m\u001b[0m\n",
      "\u001b[1;32mE:\\anaconda\\Lib\\site-packages\\matlab\\_internal\\mlarray_utils.py\u001b[0m in \u001b[0;36m_get_size\u001b[1;34m(initializer)\u001b[0m\n\u001b[0;32m     74\u001b[0m     \u001b[0mis_rect\u001b[0m\u001b[1;33m,\u001b[0m \u001b[0mdepth\u001b[0m \u001b[1;33m=\u001b[0m \u001b[0m_is_rectangular\u001b[0m\u001b[1;33m(\u001b[0m\u001b[0minitializer\u001b[0m\u001b[1;33m)\u001b[0m\u001b[1;33m\u001b[0m\u001b[1;33m\u001b[0m\u001b[0m\n\u001b[0;32m     75\u001b[0m     \u001b[1;32mif\u001b[0m \u001b[1;32mnot\u001b[0m \u001b[0mis_rect\u001b[0m\u001b[1;33m:\u001b[0m\u001b[1;33m\u001b[0m\u001b[1;33m\u001b[0m\u001b[0m\n\u001b[1;32m---> 76\u001b[1;33m         \u001b[1;32mraise\u001b[0m \u001b[0mValueError\u001b[0m\u001b[1;33m(\u001b[0m\u001b[1;34m\"initializer must be a rectangular nested sequence\"\u001b[0m\u001b[1;33m)\u001b[0m\u001b[1;33m\u001b[0m\u001b[1;33m\u001b[0m\u001b[0m\n\u001b[0m\u001b[0;32m     77\u001b[0m \u001b[1;33m\u001b[0m\u001b[0m\n\u001b[0;32m     78\u001b[0m     \u001b[0mdims\u001b[0m \u001b[1;33m=\u001b[0m \u001b[1;33m[\u001b[0m\u001b[1;33m]\u001b[0m\u001b[1;33m\u001b[0m\u001b[1;33m\u001b[0m\u001b[0m\n",
      "\u001b[1;31mValueError\u001b[0m: initializer must be a rectangular nested sequence"
     ]
    }
   ],
   "source": [
    "a_m = matlab.double(a)\n"
   ]
  },
  {
   "cell_type": "markdown",
   "metadata": {},
   "source": [
    "This happens because `matlab.double` function is expecting a `list` or a `tuple` as input, and it is unable to understand the `numpy.ndarray` datatype.\n",
    "\n",
    "A workaraound is to go back to the list format:"
   ]
  },
  {
   "cell_type": "code",
   "execution_count": 12,
   "metadata": {},
   "outputs": [
    {
     "name": "stdout",
     "output_type": "stream",
     "text": [
      "[[1.0,4.0,9.0,16.0]]\n",
      "<class 'mlarray.double'>\n",
      "(1, 4)\n"
     ]
    }
   ],
   "source": [
    "a_m = matlab.double(a.tolist()) # casting a as list\n",
    "b_m = eng.power(a_m,2.0)\n",
    "print((b_m))\n",
    "print(type(b_m))\n",
    "print(b_m.size)"
   ]
  },
  {
   "cell_type": "markdown",
   "metadata": {},
   "source": [
    "End the MATLAB session:"
   ]
  },
  {
   "cell_type": "code",
   "execution_count": 9,
   "metadata": {},
   "outputs": [],
   "source": [
    "eng.quit()"
   ]
  },
  {
   "cell_type": "markdown",
   "metadata": {},
   "source": [
    "Read the parquet file \n",
    "<br> **Requirements:** Pyarrow or fastparquet or snappy engine to read the data (Use pip install or conda install) \n"
   ]
  },
  {
   "cell_type": "code",
   "execution_count": 10,
   "metadata": {},
   "outputs": [],
   "source": [
    "import pandas as pd\n",
    "import pyarrow #compression technique"
   ]
  },
  {
   "cell_type": "code",
   "execution_count": 11,
   "metadata": {},
   "outputs": [
    {
     "data": {
      "text/html": [
       "<div>\n",
       "<style scoped>\n",
       "    .dataframe tbody tr th:only-of-type {\n",
       "        vertical-align: middle;\n",
       "    }\n",
       "\n",
       "    .dataframe tbody tr th {\n",
       "        vertical-align: top;\n",
       "    }\n",
       "\n",
       "    .dataframe thead th {\n",
       "        text-align: right;\n",
       "    }\n",
       "</style>\n",
       "<table border=\"1\" class=\"dataframe\">\n",
       "  <thead>\n",
       "    <tr style=\"text-align: right;\">\n",
       "      <th></th>\n",
       "      <th>Var1</th>\n",
       "      <th>Var2</th>\n",
       "      <th>Var3</th>\n",
       "      <th>Var4</th>\n",
       "      <th>Var5</th>\n",
       "      <th>Var6</th>\n",
       "      <th>Var7</th>\n",
       "      <th>Var8</th>\n",
       "      <th>Var9</th>\n",
       "      <th>Var10</th>\n",
       "    </tr>\n",
       "  </thead>\n",
       "  <tbody>\n",
       "    <tr>\n",
       "      <th>0</th>\n",
       "      <td>1.0</td>\n",
       "      <td>Eldon Base for stackable storage shelf, platinum</td>\n",
       "      <td>Muhammed MacIntyre</td>\n",
       "      <td>3.0</td>\n",
       "      <td>-213.25</td>\n",
       "      <td>38.94</td>\n",
       "      <td>35.00</td>\n",
       "      <td>Nunavut</td>\n",
       "      <td>Storage &amp; Organization</td>\n",
       "      <td>0.80</td>\n",
       "    </tr>\n",
       "    <tr>\n",
       "      <th>1</th>\n",
       "      <td>2.0</td>\n",
       "      <td>1.7 Cubic Foot Compact \"Cube\" Office Refrigera...</td>\n",
       "      <td>Barry French</td>\n",
       "      <td>293.0</td>\n",
       "      <td>457.81</td>\n",
       "      <td>208.16</td>\n",
       "      <td>68.02</td>\n",
       "      <td>Nunavut</td>\n",
       "      <td>Appliances</td>\n",
       "      <td>0.58</td>\n",
       "    </tr>\n",
       "    <tr>\n",
       "      <th>2</th>\n",
       "      <td>3.0</td>\n",
       "      <td>Cardinal Slant-D® Ring Binder, Heavy Gauge Vinyl</td>\n",
       "      <td>Barry French</td>\n",
       "      <td>293.0</td>\n",
       "      <td>46.71</td>\n",
       "      <td>8.69</td>\n",
       "      <td>2.99</td>\n",
       "      <td>Nunavut</td>\n",
       "      <td>Binders and Binder Accessories</td>\n",
       "      <td>0.39</td>\n",
       "    </tr>\n",
       "    <tr>\n",
       "      <th>3</th>\n",
       "      <td>4.0</td>\n",
       "      <td>R380</td>\n",
       "      <td>Clay Rozendal</td>\n",
       "      <td>483.0</td>\n",
       "      <td>1198.97</td>\n",
       "      <td>195.99</td>\n",
       "      <td>3.99</td>\n",
       "      <td>Nunavut</td>\n",
       "      <td>Telephones and Communication</td>\n",
       "      <td>0.58</td>\n",
       "    </tr>\n",
       "    <tr>\n",
       "      <th>4</th>\n",
       "      <td>5.0</td>\n",
       "      <td>Holmes HEPA Air Purifier</td>\n",
       "      <td>Carlos Soltero</td>\n",
       "      <td>515.0</td>\n",
       "      <td>30.94</td>\n",
       "      <td>21.78</td>\n",
       "      <td>5.94</td>\n",
       "      <td>Nunavut</td>\n",
       "      <td>Appliances</td>\n",
       "      <td>0.50</td>\n",
       "    </tr>\n",
       "    <tr>\n",
       "      <th>...</th>\n",
       "      <td>...</td>\n",
       "      <td>...</td>\n",
       "      <td>...</td>\n",
       "      <td>...</td>\n",
       "      <td>...</td>\n",
       "      <td>...</td>\n",
       "      <td>...</td>\n",
       "      <td>...</td>\n",
       "      <td>...</td>\n",
       "      <td>...</td>\n",
       "    </tr>\n",
       "    <tr>\n",
       "      <th>9995</th>\n",
       "      <td>9996.0</td>\n",
       "      <td>Eaton Premium Continuous-Feed Paper, 25% Cotto...</td>\n",
       "      <td>Corey Catlett</td>\n",
       "      <td>43815.0</td>\n",
       "      <td>539.45</td>\n",
       "      <td>55.48</td>\n",
       "      <td>6.79</td>\n",
       "      <td>British Columbia</td>\n",
       "      <td>Paper</td>\n",
       "      <td>0.37</td>\n",
       "    </tr>\n",
       "    <tr>\n",
       "      <th>9996</th>\n",
       "      <td>9997.0</td>\n",
       "      <td>Space Solutions Industrial Galvanized Steel S...</td>\n",
       "      <td>Corey Catlett</td>\n",
       "      <td>43815.0</td>\n",
       "      <td>-1097.97</td>\n",
       "      <td>78.80</td>\n",
       "      <td>35.00</td>\n",
       "      <td>British Columbia</td>\n",
       "      <td>Storage &amp; Organization</td>\n",
       "      <td>0.83</td>\n",
       "    </tr>\n",
       "    <tr>\n",
       "      <th>9997</th>\n",
       "      <td>9998.0</td>\n",
       "      <td>KF 788</td>\n",
       "      <td>Deborah Brumfield</td>\n",
       "      <td>43844.0</td>\n",
       "      <td>170.57</td>\n",
       "      <td>45.99</td>\n",
       "      <td>4.99</td>\n",
       "      <td>British Columbia</td>\n",
       "      <td>Telephones and Communication</td>\n",
       "      <td>0.56</td>\n",
       "    </tr>\n",
       "    <tr>\n",
       "      <th>9998</th>\n",
       "      <td>9999.0</td>\n",
       "      <td>Telephone Message Books with Fax/Mobile Sectio...</td>\n",
       "      <td>Jill Matthias</td>\n",
       "      <td>43846.0</td>\n",
       "      <td>-8.28</td>\n",
       "      <td>3.60</td>\n",
       "      <td>2.20</td>\n",
       "      <td>British Columbia</td>\n",
       "      <td>Paper</td>\n",
       "      <td>0.39</td>\n",
       "    </tr>\n",
       "    <tr>\n",
       "      <th>9999</th>\n",
       "      <td>10000.0</td>\n",
       "      <td>#10- 4 1/8\" x 9 1/2\" Security-Tint Envelopes</td>\n",
       "      <td>Harold Dahlen</td>\n",
       "      <td>43974.0</td>\n",
       "      <td>15.83</td>\n",
       "      <td>7.64</td>\n",
       "      <td>1.39</td>\n",
       "      <td>British Columbia</td>\n",
       "      <td>Envelopes</td>\n",
       "      <td>0.36</td>\n",
       "    </tr>\n",
       "  </tbody>\n",
       "</table>\n",
       "<p>10000 rows × 10 columns</p>\n",
       "</div>"
      ],
      "text/plain": [
       "         Var1                                               Var2  \\\n",
       "0         1.0   Eldon Base for stackable storage shelf, platinum   \n",
       "1         2.0  1.7 Cubic Foot Compact \"Cube\" Office Refrigera...   \n",
       "2         3.0   Cardinal Slant-D® Ring Binder, Heavy Gauge Vinyl   \n",
       "3         4.0                                               R380   \n",
       "4         5.0                           Holmes HEPA Air Purifier   \n",
       "...       ...                                                ...   \n",
       "9995   9996.0  Eaton Premium Continuous-Feed Paper, 25% Cotto...   \n",
       "9996   9997.0  Space Solutions Industrial Galvanized Steel S...   \n",
       "9997   9998.0                                             KF 788   \n",
       "9998   9999.0  Telephone Message Books with Fax/Mobile Sectio...   \n",
       "9999  10000.0       #10- 4 1/8\" x 9 1/2\" Security-Tint Envelopes   \n",
       "\n",
       "                    Var3     Var4     Var5    Var6   Var7              Var8  \\\n",
       "0     Muhammed MacIntyre      3.0  -213.25   38.94  35.00           Nunavut   \n",
       "1           Barry French    293.0   457.81  208.16  68.02           Nunavut   \n",
       "2           Barry French    293.0    46.71    8.69   2.99           Nunavut   \n",
       "3          Clay Rozendal    483.0  1198.97  195.99   3.99           Nunavut   \n",
       "4         Carlos Soltero    515.0    30.94   21.78   5.94           Nunavut   \n",
       "...                  ...      ...      ...     ...    ...               ...   \n",
       "9995       Corey Catlett  43815.0   539.45   55.48   6.79  British Columbia   \n",
       "9996       Corey Catlett  43815.0 -1097.97   78.80  35.00  British Columbia   \n",
       "9997   Deborah Brumfield  43844.0   170.57   45.99   4.99  British Columbia   \n",
       "9998       Jill Matthias  43846.0    -8.28    3.60   2.20  British Columbia   \n",
       "9999       Harold Dahlen  43974.0    15.83    7.64   1.39  British Columbia   \n",
       "\n",
       "                                Var9  Var10  \n",
       "0             Storage & Organization   0.80  \n",
       "1                         Appliances   0.58  \n",
       "2     Binders and Binder Accessories   0.39  \n",
       "3       Telephones and Communication   0.58  \n",
       "4                         Appliances   0.50  \n",
       "...                              ...    ...  \n",
       "9995                           Paper   0.37  \n",
       "9996          Storage & Organization   0.83  \n",
       "9997    Telephones and Communication   0.56  \n",
       "9998                           Paper   0.39  \n",
       "9999                       Envelopes   0.36  \n",
       "\n",
       "[10000 rows x 10 columns]"
      ]
     },
     "execution_count": 11,
     "metadata": {},
     "output_type": "execute_result"
    }
   ],
   "source": [
    "data=pd.read_parquet('sample.parquet')\n",
    "data"
   ]
  },
  {
   "cell_type": "code",
   "execution_count": null,
   "metadata": {},
   "outputs": [],
   "source": []
  },
  {
   "cell_type": "code",
   "execution_count": null,
   "metadata": {},
   "outputs": [],
   "source": []
  },
  {
   "cell_type": "code",
   "execution_count": null,
   "metadata": {},
   "outputs": [],
   "source": []
  },
  {
   "cell_type": "code",
   "execution_count": null,
   "metadata": {},
   "outputs": [],
   "source": []
  },
  {
   "cell_type": "code",
   "execution_count": null,
   "metadata": {},
   "outputs": [],
   "source": []
  },
  {
   "cell_type": "code",
   "execution_count": null,
   "metadata": {},
   "outputs": [],
   "source": []
  },
  {
   "cell_type": "code",
   "execution_count": null,
   "metadata": {},
   "outputs": [],
   "source": []
  },
  {
   "cell_type": "code",
   "execution_count": null,
   "metadata": {},
   "outputs": [],
   "source": [
    "\n"
   ]
  },
  {
   "cell_type": "code",
   "execution_count": null,
   "metadata": {},
   "outputs": [],
   "source": []
  },
  {
   "cell_type": "code",
   "execution_count": null,
   "metadata": {},
   "outputs": [],
   "source": []
  },
  {
   "cell_type": "code",
   "execution_count": null,
   "metadata": {},
   "outputs": [],
   "source": []
  },
  {
   "cell_type": "code",
   "execution_count": null,
   "metadata": {},
   "outputs": [],
   "source": []
  },
  {
   "cell_type": "code",
   "execution_count": null,
   "metadata": {},
   "outputs": [],
   "source": []
  }
 ],
 "metadata": {
  "kernelspec": {
   "display_name": "Python 3",
   "language": "python",
   "name": "python3"
  },
  "language_info": {
   "codemirror_mode": {
    "name": "ipython",
    "version": 3
   },
   "file_extension": ".py",
   "mimetype": "text/x-python",
   "name": "python",
   "nbconvert_exporter": "python",
   "pygments_lexer": "ipython3",
   "version": "3.8.5"
  }
 },
 "nbformat": 4,
 "nbformat_minor": 4
}
